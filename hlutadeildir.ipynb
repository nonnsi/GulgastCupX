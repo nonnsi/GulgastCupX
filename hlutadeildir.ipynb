{
 "cells": [
  {
   "cell_type": "code",
   "execution_count": 1,
   "metadata": {},
   "outputs": [],
   "source": [
    "import requests\n",
    "from requests.exceptions import HTTPError\n",
    "\n",
    "import json\n",
    "import datetime\n",
    "import pandas as pd"
   ]
  },
  {
   "cell_type": "code",
   "execution_count": 2,
   "metadata": {},
   "outputs": [],
   "source": [
    "# Grunnupplýsingar um deildina\n",
    "league_id = '1150562'\n",
    "\n",
    "# end points\n",
    "url = 'https://fantasy.premierleague.com/api/'\n",
    "\n",
    "leagues_endpoint = f'leagues-classic/{1150562}/standings/'\n",
    "entry_endpoint = 'entry/'\n",
    "static_endpoint = 'bootstrap-static/'"
   ]
  },
  {
   "cell_type": "markdown",
   "metadata": {},
   "source": [
    "### Hjálparföll"
   ]
  },
  {
   "cell_type": "code",
   "execution_count": 3,
   "metadata": {},
   "outputs": [],
   "source": [
    "# prentar út json object fallega\n",
    "def print_json(json_object):\n",
    "    print(json.dumps(json_object, indent=2, ensure_ascii=False))"
   ]
  },
  {
   "cell_type": "markdown",
   "metadata": {},
   "source": [
    "### FPL föll sem kalla í apann"
   ]
  },
  {
   "cell_type": "code",
   "execution_count": 4,
   "metadata": {},
   "outputs": [],
   "source": [
    "def find_current_gw():\n",
    "    try:\n",
    "        response = requests.get(url + static_endpoint)\n",
    "        \n",
    "        events = response.json()['events']\n",
    "        for event in events:\n",
    "            if event['is_current']:\n",
    "                return int(event['id'])\n",
    "        \n",
    "    except HTTPError as http_err:\n",
    "        print(f'HTTP error occurred: {http_err}')\n",
    "        return -1\n",
    "    except Exception as err:\n",
    "        print(f'Other error occurred: {err}')\n",
    "        return -1"
   ]
  },
  {
   "cell_type": "code",
   "execution_count": 5,
   "metadata": {},
   "outputs": [],
   "source": [
    "def is_gw_finished(gw):\n",
    "    try:\n",
    "        response = requests.get(url + static_endpoint)\n",
    "        \n",
    "        events = response.json()['events']\n",
    "        for event in events:\n",
    "            if event['id'] == gw:\n",
    "                return event['finished']\n",
    "        \n",
    "    except HTTPError as http_err:\n",
    "        print(f'HTTP error occurred: {http_err}')\n",
    "        return None\n",
    "    except Exception as err:\n",
    "        print(f'Other error occurred: {err}')\n",
    "        return None"
   ]
  },
  {
   "cell_type": "code",
   "execution_count": 6,
   "metadata": {},
   "outputs": [],
   "source": [
    "def find_current_phase():\n",
    "    for key in phases:\n",
    "        phase = phases[key]\n",
    "        if phase['is_current']:\n",
    "            return int(phase['id'])"
   ]
  },
  {
   "cell_type": "code",
   "execution_count": 7,
   "metadata": {},
   "outputs": [],
   "source": [
    "def is_phase_finished(phase_id):\n",
    "    for key in phases:\n",
    "        phase = phases[key]\n",
    "        end = phase['end_event']\n",
    "        return is_gw_finished(end)"
   ]
  },
  {
   "cell_type": "code",
   "execution_count": 8,
   "metadata": {},
   "outputs": [],
   "source": [
    "# finnur id fyrir hvern og einn leikmann í deildinni, skilar dict\n",
    "def find_gulgast_entries_id():\n",
    "    try:\n",
    "        response = requests.get(url + leagues_endpoint)\n",
    "        \n",
    "        # kóðinn fer hingað ef það er engin villa\n",
    "        league_json = response.json()\n",
    "        entries_json = league_json['standings']['results']\n",
    "        gulgast_entries = {}\n",
    "        for entry in entries_json:\n",
    "            entry_id = entry['entry']\n",
    "            gulgast_entries[entry_id] = entry['player_name']\n",
    "        \n",
    "    except HTTPError as http_err:\n",
    "        print(f'HTTP error occurred: {http_err}')  \n",
    "    except Exception as err:\n",
    "        print(f'Other error occurred: {err}')\n",
    "\n",
    "    return gulgast_entries"
   ]
  },
  {
   "cell_type": "code",
   "execution_count": 9,
   "metadata": {},
   "outputs": [],
   "source": [
    "def find_entries_points_in_gameweek(entry_id, gw):\n",
    "    points = None\n",
    "    try:\n",
    "        response = requests.get(url + entry_endpoint + f'{entry_id}/event/{gw}/picks/')\n",
    "        \n",
    "        points = int(response.json()['entry_history']['points'])\n",
    "    \n",
    "    except HTTPError as http_err:\n",
    "        print(f'HTTP error occurred: {http_err}')  \n",
    "    except Exception as err:\n",
    "            print(f'Other error occurred: {err}')\n",
    "        \n",
    "    return points"
   ]
  },
  {
   "cell_type": "code",
   "execution_count": 10,
   "metadata": {},
   "outputs": [],
   "source": [
    "# finnur stig leikmanns í hlutadeild\n",
    "def find_entry_points_in_phase(entry_id, phase_id):\n",
    "    if phase_id > find_current_phase():\n",
    "        return None\n",
    "    \n",
    "    phase_key = str(phase_id)\n",
    "    \n",
    "    start = phases[phase_key]['start_event']\n",
    "    end = phases[str(phase_key)]['end_event']\n",
    "\n",
    "    if current_gw < end:\n",
    "        end = current_gw\n",
    "        \n",
    "    phase_points = 0\n",
    "    gw = start\n",
    "    while gw <= end:\n",
    "        phase_points += find_entries_points_in_gameweek(entry_id, gw)\n",
    "        gw += 1\n",
    "        \n",
    "    return phase_points"
   ]
  },
  {
   "cell_type": "code",
   "execution_count": 11,
   "metadata": {},
   "outputs": [],
   "source": [
    "# finnur töfluna fyrir hlutadeild\n",
    "def find_phase_table(phase_id):\n",
    "    phase_table = {}\n",
    "    for entry_id in gulgast_entries:\n",
    "        points = find_entry_points_in_phase(entry_id, phase_id)\n",
    "        entry_name = gulgast_entries[entry_id]\n",
    "        phase_table[entry_name] = points\n",
    "    \n",
    "    table_df = pd.DataFrame.from_dict(phase_table, orient='index')\n",
    "    table_df = table_df.reset_index()\n",
    "    table_df['Hlutadeild'] = phase_id\n",
    "    table_df.columns = ['Nafn', 'Stig', 'Hlutadeild']\n",
    "    table_df = table_df.sort_values('Stig', ascending=False)\n",
    "    return table_df"
   ]
  },
  {
   "cell_type": "code",
   "execution_count": 12,
   "metadata": {},
   "outputs": [],
   "source": [
    "# finnur winner hlutadeildar\n",
    "def find_phase_winner(phase_id):\n",
    "    if not is_phase_finished(phase_id):\n",
    "        return None, None\n",
    "    \n",
    "    winner_points = -1000\n",
    "    winner = ''\n",
    "    for entry_id in gulgast_entries:\n",
    "        points = find_entry_points_in_phase(entry_id, phase_id)\n",
    "        name = gulgast_entries[entry_id]\n",
    "        # Einhverjir jafnir á stigum\n",
    "        if points == winner_points:\n",
    "            winner += f', {name}'\n",
    "        # Einhver hærri    \n",
    "        if points > winner_points:\n",
    "            winner = name\n",
    "            winner_points = points\n",
    "    \n",
    "    return winner, winner_points"
   ]
  },
  {
   "cell_type": "code",
   "execution_count": 23,
   "metadata": {},
   "outputs": [],
   "source": [
    "def get_phases():\n",
    "    phase_id = 1\n",
    "    start= 1\n",
    "    end = 4\n",
    "    last_gw = 38\n",
    "    phases = {}\n",
    "\n",
    "    # finnum upplýsingarnar fyrir hverja hlutadeild\n",
    "    while end <= last_gw:\n",
    "        phase = {}\n",
    "        \n",
    "        # hlutadeildir 5 og 8 innihalda 5 umferðir\n",
    "        end = end if (phase_id != 5 and phase_id != 8) else end + 1\n",
    "\n",
    "        # grunnupplýsingar fyrir hverja hlutadeild\n",
    "        phase['id'] = phase_id\n",
    "        phase['name'] = f'hlutadeild {phase_id}'\n",
    "        phase['start_event'] = start\n",
    "        phase['end_event'] = end\n",
    "        phase['is_current'] = True if start <= current_gw <= end else False\n",
    "        phase['is_finished'] = is_gw_finished(end)\n",
    "\n",
    "        # bætum hlutadeild í dictið\n",
    "        phases[f'{phase_id}'] = phase\n",
    "\n",
    "        # gerum tilbúið fyrir næstu loop-u\n",
    "        phase_id +=1\n",
    "        start = end + 1\n",
    "        end += 4\n",
    "\n",
    "    return phases"
   ]
  },
  {
   "cell_type": "code",
   "execution_count": 14,
   "metadata": {},
   "outputs": [],
   "source": [
    "def generate_finished_phases(phases):\n",
    "    finished_phases = {}\n",
    "    for key in phases:\n",
    "        phase = phases[key]\n",
    "        phase_id = phase['id']\n",
    "        if phase['is_finished']:\n",
    "            winner, winner_points = find_phase_winner(phase_id)\n",
    "            phase['winner'] = winner\n",
    "            phase['winner_points'] = winner_points\n",
    "            finished_phases[key] = phase\n",
    "        else:\n",
    "            return finished_phases"
   ]
  },
  {
   "cell_type": "markdown",
   "metadata": {},
   "source": [
    "## Main"
   ]
  },
  {
   "cell_type": "code",
   "execution_count": 15,
   "metadata": {},
   "outputs": [],
   "source": [
    "current_gw = find_current_gw()\n",
    "current_gw_finished = is_gw_finished(current_gw)"
   ]
  },
  {
   "cell_type": "code",
   "execution_count": 16,
   "metadata": {},
   "outputs": [],
   "source": [
    "gulgast_entries = find_gulgast_entries_id()"
   ]
  },
  {
   "cell_type": "code",
   "execution_count": 24,
   "metadata": {},
   "outputs": [],
   "source": [
    "phases = get_phases()\n",
    "current_phase = find_current_phase()"
   ]
  },
  {
   "cell_type": "code",
   "execution_count": 18,
   "metadata": {},
   "outputs": [
    {
     "data": {
      "text/html": [
       "<div>\n",
       "<style scoped>\n",
       "    .dataframe tbody tr th:only-of-type {\n",
       "        vertical-align: middle;\n",
       "    }\n",
       "\n",
       "    .dataframe tbody tr th {\n",
       "        vertical-align: top;\n",
       "    }\n",
       "\n",
       "    .dataframe thead th {\n",
       "        text-align: right;\n",
       "    }\n",
       "</style>\n",
       "<table border=\"1\" class=\"dataframe\">\n",
       "  <thead>\n",
       "    <tr style=\"text-align: right;\">\n",
       "      <th></th>\n",
       "      <th>Nafn</th>\n",
       "      <th>Stig</th>\n",
       "      <th>Hlutadeild</th>\n",
       "    </tr>\n",
       "  </thead>\n",
       "  <tbody>\n",
       "    <tr>\n",
       "      <th>0</th>\n",
       "      <td>Daníel Þór Rúnarsson</td>\n",
       "      <td>42</td>\n",
       "      <td>1</td>\n",
       "    </tr>\n",
       "    <tr>\n",
       "      <th>1</th>\n",
       "      <td>Viktor Snær Rúnarsson</td>\n",
       "      <td>42</td>\n",
       "      <td>1</td>\n",
       "    </tr>\n",
       "    <tr>\n",
       "      <th>2</th>\n",
       "      <td>Breki Einarsson</td>\n",
       "      <td>41</td>\n",
       "      <td>1</td>\n",
       "    </tr>\n",
       "    <tr>\n",
       "      <th>3</th>\n",
       "      <td>Jón Kaldal</td>\n",
       "      <td>39</td>\n",
       "      <td>1</td>\n",
       "    </tr>\n",
       "    <tr>\n",
       "      <th>4</th>\n",
       "      <td>Thorkell Helgason</td>\n",
       "      <td>38</td>\n",
       "      <td>1</td>\n",
       "    </tr>\n",
       "    <tr>\n",
       "      <th>5</th>\n",
       "      <td>Kristþór Logi Sæmundsson</td>\n",
       "      <td>38</td>\n",
       "      <td>1</td>\n",
       "    </tr>\n",
       "    <tr>\n",
       "      <th>6</th>\n",
       "      <td>Andrés Burknason</td>\n",
       "      <td>36</td>\n",
       "      <td>1</td>\n",
       "    </tr>\n",
       "    <tr>\n",
       "      <th>7</th>\n",
       "      <td>Petur Jokull Thorvaldsson</td>\n",
       "      <td>35</td>\n",
       "      <td>1</td>\n",
       "    </tr>\n",
       "    <tr>\n",
       "      <th>8</th>\n",
       "      <td>Kristofer Karl Jensson</td>\n",
       "      <td>35</td>\n",
       "      <td>1</td>\n",
       "    </tr>\n",
       "    <tr>\n",
       "      <th>9</th>\n",
       "      <td>Haukur Marian Suska</td>\n",
       "      <td>34</td>\n",
       "      <td>1</td>\n",
       "    </tr>\n",
       "  </tbody>\n",
       "</table>\n",
       "</div>"
      ],
      "text/plain": [
       "                        Nafn  Stig  Hlutadeild\n",
       "0       Daníel Þór Rúnarsson    42           1\n",
       "1      Viktor Snær Rúnarsson    42           1\n",
       "2            Breki Einarsson    41           1\n",
       "3                 Jón Kaldal    39           1\n",
       "4          Thorkell Helgason    38           1\n",
       "5   Kristþór Logi Sæmundsson    38           1\n",
       "6           Andrés Burknason    36           1\n",
       "7  Petur Jokull Thorvaldsson    35           1\n",
       "8     Kristofer Karl Jensson    35           1\n",
       "9        Haukur Marian Suska    34           1"
      ]
     },
     "execution_count": 18,
     "metadata": {},
     "output_type": "execute_result"
    }
   ],
   "source": [
    "current_phase_table = find_phase_table(current_phase)\n",
    "current_phase_table"
   ]
  },
  {
   "cell_type": "code",
   "execution_count": 19,
   "metadata": {},
   "outputs": [
    {
     "name": "stdout",
     "output_type": "stream",
     "text": [
      "Sigurvegari hlutadeildar 1: None með None stig\n"
     ]
    }
   ],
   "source": [
    "current_phase_winner, current_phase_winner_points = find_phase_winner(current_phase)\n",
    "print(f'Sigurvegari hlutadeildar {current_phase}: {current_phase_winner} með {current_phase_winner_points} stig')"
   ]
  },
  {
   "cell_type": "code",
   "execution_count": 20,
   "metadata": {},
   "outputs": [
    {
     "name": "stdout",
     "output_type": "stream",
     "text": [
      "{}\n"
     ]
    }
   ],
   "source": [
    "finished_phases = generate_finished_phases(phases)\n",
    "print_json(finished_phases)"
   ]
  },
  {
   "cell_type": "markdown",
   "metadata": {},
   "source": [
    "### Aðrar upplýsingar"
   ]
  },
  {
   "cell_type": "code",
   "execution_count": 21,
   "metadata": {},
   "outputs": [
    {
     "name": "stdout",
     "output_type": "stream",
     "text": [
      "{\n",
      "  \"6719035\": \"Daníel Þór Rúnarsson\",\n",
      "  \"801840\": \"Viktor Snær Rúnarsson\",\n",
      "  \"6049917\": \"Breki Einarsson\",\n",
      "  \"3857781\": \"Jón Kaldal\",\n",
      "  \"5242555\": \"Thorkell Helgason\",\n",
      "  \"6673584\": \"Kristþór Logi Sæmundsson\",\n",
      "  \"4984408\": \"Andrés Burknason\",\n",
      "  \"5205277\": \"Petur Jokull Thorvaldsson\",\n",
      "  \"7618498\": \"Kristofer Karl Jensson\",\n",
      "  \"5651623\": \"Haukur Marian Suska\"\n",
      "}\n"
     ]
    }
   ],
   "source": [
    "print_json(gulgast_entries)"
   ]
  },
  {
   "cell_type": "code",
   "execution_count": 25,
   "metadata": {},
   "outputs": [
    {
     "name": "stdout",
     "output_type": "stream",
     "text": [
      "{\n",
      "  \"1\": {\n",
      "    \"id\": 1,\n",
      "    \"name\": \"hlutadeild 1\",\n",
      "    \"start_event\": 1,\n",
      "    \"end_event\": 4,\n",
      "    \"is_current\": true,\n",
      "    \"is_finished\": false\n",
      "  },\n",
      "  \"2\": {\n",
      "    \"id\": 2,\n",
      "    \"name\": \"hlutadeild 2\",\n",
      "    \"start_event\": 5,\n",
      "    \"end_event\": 8,\n",
      "    \"is_current\": false,\n",
      "    \"is_finished\": false\n",
      "  },\n",
      "  \"3\": {\n",
      "    \"id\": 3,\n",
      "    \"name\": \"hlutadeild 3\",\n",
      "    \"start_event\": 9,\n",
      "    \"end_event\": 12,\n",
      "    \"is_current\": false,\n",
      "    \"is_finished\": false\n",
      "  },\n",
      "  \"4\": {\n",
      "    \"id\": 4,\n",
      "    \"name\": \"hlutadeild 4\",\n",
      "    \"start_event\": 13,\n",
      "    \"end_event\": 16,\n",
      "    \"is_current\": false,\n",
      "    \"is_finished\": false\n",
      "  },\n",
      "  \"5\": {\n",
      "    \"id\": 5,\n",
      "    \"name\": \"hlutadeild 5\",\n",
      "    \"start_event\": 17,\n",
      "    \"end_event\": 21,\n",
      "    \"is_current\": false,\n",
      "    \"is_finished\": false\n",
      "  },\n",
      "  \"6\": {\n",
      "    \"id\": 6,\n",
      "    \"name\": \"hlutadeild 6\",\n",
      "    \"start_event\": 22,\n",
      "    \"end_event\": 25,\n",
      "    \"is_current\": false,\n",
      "    \"is_finished\": false\n",
      "  },\n",
      "  \"7\": {\n",
      "    \"id\": 7,\n",
      "    \"name\": \"hlutadeild 7\",\n",
      "    \"start_event\": 26,\n",
      "    \"end_event\": 29,\n",
      "    \"is_current\": false,\n",
      "    \"is_finished\": false\n",
      "  },\n",
      "  \"8\": {\n",
      "    \"id\": 8,\n",
      "    \"name\": \"hlutadeild 8\",\n",
      "    \"start_event\": 30,\n",
      "    \"end_event\": 34,\n",
      "    \"is_current\": false,\n",
      "    \"is_finished\": false\n",
      "  },\n",
      "  \"9\": {\n",
      "    \"id\": 9,\n",
      "    \"name\": \"hlutadeild 9\",\n",
      "    \"start_event\": 35,\n",
      "    \"end_event\": 38,\n",
      "    \"is_current\": false,\n",
      "    \"is_finished\": false\n",
      "  }\n",
      "}\n"
     ]
    }
   ],
   "source": [
    "print_json(phases)"
   ]
  },
  {
   "cell_type": "code",
   "execution_count": null,
   "metadata": {},
   "outputs": [],
   "source": []
  }
 ],
 "metadata": {
  "kernelspec": {
   "display_name": "Python 3",
   "language": "python",
   "name": "python3"
  },
  "language_info": {
   "codemirror_mode": {
    "name": "ipython",
    "version": 3
   },
   "file_extension": ".py",
   "mimetype": "text/x-python",
   "name": "python",
   "nbconvert_exporter": "python",
   "pygments_lexer": "ipython3",
   "version": "3.7.1"
  }
 },
 "nbformat": 4,
 "nbformat_minor": 2
}
